{
 "cells": [
  {
   "cell_type": "markdown",
   "metadata": {
    "id": "uOXYIR2P5bUi"
   },
   "source": [
    "# **Beta-Lactamase Data**\n",
    "\n",
    "Chanin Nantasenamat\n",
    "\n",
    "[Data Professor YouTube channel](https://youtube.com/dataprofessor)"
   ]
  },
  {
   "cell_type": "code",
   "execution_count": 1,
   "metadata": {
    "pycharm": {
     "name": "#%%\n"
    }
   },
   "outputs": [],
   "source": [
    "import Classes.util"
   ]
  },
  {
   "cell_type": "markdown",
   "metadata": {
    "pycharm": {
     "name": "#%% md\n"
    }
   },
   "source": [
    " ### Downloads the raw dataset, unzips it and removes the original zip file\n"
   ]
  },
  {
   "cell_type": "code",
   "execution_count": 2,
   "metadata": {
    "colab": {
     "base_uri": "https://localhost:8080/"
    },
    "id": "qsH_hHB45UCK",
    "outputId": "5be383fe-fb41-4038-ac70-dd2e56248de1"
   },
   "outputs": [
    {
     "name": "stdout",
     "output_type": "stream",
     "text": [
      "download successfull\r\n",
      "Extracted 136 files\r\n"
     ]
    }
   ],
   "source": [
    "\n",
    "! wget https://github.com/dataprofessor/beta-lactamase/raw/main/beta_lactamase_CHEMBL29.zip -O ./Data/raw_dataset/beta_lactamase_CHEMBL29.zip -q && echo download successfull\n",
    "! unzip -o ./Data/raw_dataset/beta_lactamase_CHEMBL29.zip -d ./Data/raw_dataset/ > /dev/null\n",
    "! rm ./Data/raw_dataset/beta_lactamase_CHEMBL29.zip\n",
    "! number_of_files=$(ls ./Data/raw_dataset/*.csv | wc -l); echo Extracted $number_of_files files"
   ]
  },
  {
   "cell_type": "markdown",
   "metadata": {
    "colab": {
     "base_uri": "https://localhost:8080/"
    },
    "id": "lrOAAhvzpPZm",
    "outputId": "e5d7c6e4-098f-41a2-fc1e-6ddb31318e6b",
    "pycharm": {
     "name": "#%% md\n"
    }
   },
   "source": [
    "## reads in the csv files and converts them to one big table"
   ]
  },
  {
   "cell_type": "code",
   "execution_count": 3,
   "metadata": {
    "pycharm": {
     "name": "#%%\n"
    }
   },
   "outputs": [
    {
     "name": "stdout",
     "output_type": "stream",
     "text": [
      "number of entries: 71973\n"
     ]
    }
   ],
   "source": [
    "dataset=Classes.util.read_in_csv_from_directory('./Data/raw_dataset')\n",
    "# reindex so that each element has their own index\n",
    "dataset.index = list(range(0,len(dataset.index)))\n",
    "#Number of entries\n",
    "print(f'number of entries: {len(dataset)}')"
   ]
  },
  {
   "cell_type": "markdown",
   "metadata": {
    "pycharm": {
     "name": "#%% md\n"
    }
   },
   "source": [
    "## eliminate number elements with pchembl value = NAN"
   ]
  },
  {
   "cell_type": "code",
   "execution_count": 4,
   "metadata": {
    "pycharm": {
     "name": "#%%\n"
    }
   },
   "outputs": [
    {
     "name": "stdout",
     "output_type": "stream",
     "text": [
      "number of entries after eliminating all elements with pchembl=NaN: 64424\n"
     ]
    }
   ],
   "source": [
    "#dataset.loc[dataset['pchembl_value'].isnull()]\n",
    "dataset.dropna(subset = [\"pchembl_value\"], inplace=True)\n",
    "print(f'number of entries after eliminating all elements with pchembl=NaN: {len(dataset)}')"
   ]
  },
  {
   "cell_type": "markdown",
   "metadata": {
    "colab": {
     "base_uri": "https://localhost:8080/",
     "height": 694
    },
    "id": "IOKQXs0H7MkY",
    "outputId": "3de694bf-ef50-4bf3-aaab-a7ab67e25b43",
    "pycharm": {
     "name": "#%% md\n"
    }
   },
   "source": [
    "## Merge duplicate entries of molecules i.e. molecule_chembl_id occurs double"
   ]
  },
  {
   "cell_type": "code",
   "execution_count": 5,
   "metadata": {
    "pycharm": {
     "name": "#%%\n"
    }
   },
   "outputs": [],
   "source": [
    "Classes.util.remove_and_combine_molecules(dataset)\n"
   ]
  },
  {
   "cell_type": "code",
   "execution_count": null,
   "metadata": {
    "colab": {
     "base_uri": "https://localhost:8080/",
     "height": 323
    },
    "id": "loeDWobu_crw",
    "outputId": "eb3f5dde-86a6-46ca-c2ce-b2eeaadb583e"
   },
   "outputs": [],
   "source": [
    "# Bar plot of Missing vs Non-Missing Data\n",
    "\n",
    "import matplotlib.pyplot as plt\n",
    "\n",
    "# Data\n",
    "missing = df.pchembl_value.isnull().sum()\n",
    "nonmissing = df.pchembl_value.notnull().sum()\n",
    "\n",
    "x = ['Missing', 'Non-Missing']\n",
    "y = [missing, nonmissing]\n",
    "\n",
    "# Setup plot\n",
    "fig, ax = plt.subplots()\n",
    "\n",
    "# Make bar plot\n",
    "p = ax.bar(x, y, color = ['#F8766D', '#00BFC4'], ec = 'black')\n",
    "\n",
    "ax.set_title('pChEMBL Missing Data', fontsize=14, fontweight='bold', pad=15)\n",
    "#ax.set_xticklabels(x, fontweight='bold')\n",
    "\n",
    "ax.set_ylim(0,70000)\n",
    "plt.xticks(fontsize=14)\n",
    "plt.yticks(fontsize=14)\n",
    "\n",
    "# Label above bar\n",
    "for index, data in enumerate(y):\n",
    "    plt.text(x=index-0.1 , y =data+1000 , s=f\"{data}\" , fontdict=dict(fontsize=14))\n",
    "\n",
    "fig.set_size_inches(5,4.5)\n",
    "plt.show()"
   ]
  },
  {
   "cell_type": "code",
   "execution_count": null,
   "metadata": {
    "colab": {
     "base_uri": "https://localhost:8080/",
     "height": 745
    },
    "id": "y1D_ifqDIRjS",
    "outputId": "3f2f39a8-b1b6-48f0-c870-78fd7366cfa4"
   },
   "outputs": [],
   "source": [
    "# Non-missing data with pChEMBL value\n",
    "df2 = df[df.pchembl_value.notnull()]\n",
    "df2"
   ]
  },
  {
   "cell_type": "code",
   "execution_count": null,
   "metadata": {
    "colab": {
     "base_uri": "https://localhost:8080/",
     "height": 450
    },
    "id": "lDzUyr8FI76r",
    "outputId": "533304c2-a0bf-4cfa-e32e-caede68c892f"
   },
   "outputs": [],
   "source": [
    "df2.groupby('molecule_chembl_id').mean()"
   ]
  },
  {
   "cell_type": "code",
   "execution_count": null,
   "metadata": {
    "colab": {
     "base_uri": "https://localhost:8080/",
     "height": 450
    },
    "id": "v6gBZtD6J89z",
    "outputId": "f5985ab7-9d24-4f6d-d92d-de6fee84d691"
   },
   "outputs": [],
   "source": [
    "df2.groupby('molecule_chembl_id').std()"
   ]
  },
  {
   "cell_type": "code",
   "execution_count": null,
   "metadata": {
    "id": "0RA_lfBwJIwy"
   },
   "outputs": [],
   "source": [
    "df3 = df2.groupby('molecule_chembl_id').std()\n",
    "df3[(df3.pchembl_value < 2) & (df3.pchembl_value == pd.NA)]"
   ]
  },
  {
   "cell_type": "code",
   "execution_count": null,
   "metadata": {
    "id": "pcLXyM6vI8Se"
   },
   "outputs": [],
   "source": [
    "import numpy as np\n",
    "\n",
    "df3 = df2.groupby('molecule_chembl_id').std()\n",
    "df3[df3.pchembl_value == np.nan]"
   ]
  },
  {
   "cell_type": "code",
   "execution_count": null,
   "metadata": {
    "id": "08FmWk9II8VI"
   },
   "outputs": [],
   "source": []
  },
  {
   "cell_type": "code",
   "execution_count": null,
   "metadata": {
    "colab": {
     "base_uri": "https://localhost:8080/"
    },
    "id": "n8nLErqNA81y",
    "outputId": "2f6c859d-ee8a-46c4-d5dd-4a07fac4e954"
   },
   "outputs": [],
   "source": [
    "print('Number of unique ChEMBL ID:', str(len(df.molecule_chembl_id.unique()) )  )\n",
    "print('Total number of ChEMBL ID: ', str(len(df)) )\n",
    "print('Number of missing ChEMBL ID: ', str(df.molecule_chembl_id.isnull().sum()) )"
   ]
  },
  {
   "cell_type": "code",
   "execution_count": null,
   "metadata": {
    "id": "l3TZE0L0WcFN"
   },
   "outputs": [],
   "source": [
    "import matplotlib.pyplot as plt\n",
    "\n",
    "unique = len(df.molecule_chembl_id.unique())\n",
    "not_unique = len(df) - unique\n",
    "\n",
    "x = ['Unique', 'Redundant']\n",
    "y = [unique, not_unique]\n",
    "\n"
   ]
  },
  {
   "cell_type": "code",
   "execution_count": null,
   "metadata": {
    "colab": {
     "base_uri": "https://localhost:8080/",
     "height": 491
    },
    "id": "B9WI4MpiHJgP",
    "outputId": "4382a0e2-e5df-4282-d075-100c6d921599"
   },
   "outputs": [],
   "source": [
    "df2.target_pref_name.value_counts()[0:50].plot.bar(figsize=(24,4), color='#00BFC4', ec='black')\n",
    "\n",
    "plt.title('Top 50 Targets', fontsize=14, fontweight='black', pad=15)\n",
    "plt.show()"
   ]
  },
  {
   "cell_type": "code",
   "execution_count": null,
   "metadata": {
    "colab": {
     "base_uri": "https://localhost:8080/",
     "height": 321
    },
    "id": "fl1ykWbNKOJz",
    "outputId": "92a15a84-abe2-4bb3-ad46-743fd91a221d"
   },
   "outputs": [],
   "source": [
    "# Top 10 Bioactivity units\n",
    "df2.standard_type.value_counts()[:10].plot.bar(figsize=(8,4), color='#00BFC4', ec='black')\n",
    "\n",
    "plt.title('Top Bioactivity Units', fontsize=14, fontweight='black', pad=15)\n",
    "plt.show()"
   ]
  },
  {
   "cell_type": "code",
   "execution_count": null,
   "metadata": {
    "colab": {
     "base_uri": "https://localhost:8080/",
     "height": 408
    },
    "id": "pQ2fxUGVSeNn",
    "outputId": "d96e5e4c-ce9d-40f3-bc0e-31b10a1c7d53"
   },
   "outputs": [],
   "source": [
    "bao_labels = df2.bao_label.value_counts()\n",
    "bao_labels.plot.bar(figsize=(8,4), color='#00BFC4', ec='black')\n",
    "\n",
    "plt.title('Histogram of BioAssay Ontology', fontsize=14, fontweight='black', pad=15)\n",
    "plt.xticks(fontsize=12)\n",
    "plt.yticks(fontsize=12)\n",
    "plt.show()"
   ]
  },
  {
   "cell_type": "code",
   "execution_count": null,
   "metadata": {
    "id": "GOkc9-PiUYvY"
   },
   "outputs": [],
   "source": [
    "bao_labels"
   ]
  },
  {
   "cell_type": "code",
   "execution_count": null,
   "metadata": {
    "colab": {
     "base_uri": "https://localhost:8080/",
     "height": 294
    },
    "id": "XOrwRrA2L8__",
    "outputId": "2d64d786-d2d3-4053-da09-633b8a7e57e1"
   },
   "outputs": [],
   "source": [
    "df2.pchembl_value.hist(bins=40, figsize=(8,4), color='#00BFC4', ec='black')\n",
    "\n",
    "plt.title('Histogram of pChEMBL values', fontsize=14, fontweight='black', pad=15)\n",
    "plt.xticks(fontsize=12)\n",
    "plt.yticks(fontsize=12)\n",
    "plt.show()"
   ]
  },
  {
   "cell_type": "code",
   "execution_count": null,
   "metadata": {
    "id": "Xq2BMPZCIHGf"
   },
   "outputs": [],
   "source": []
  },
  {
   "cell_type": "markdown",
   "metadata": {
    "id": "iaS_0mQmpjsI"
   },
   "source": [
    "pChEMBL values <5 == 'Inactive'\n",
    "pChEMBL values > 6 == 'Active'\n",
    "pChEMBL values 5-6 == 'Intermediate'"
   ]
  }
 ],
 "metadata": {
  "colab": {
   "collapsed_sections": [],
   "name": "beta-lactamase-data.ipynb",
   "provenance": []
  },
  "kernelspec": {
   "display_name": "Python 3 (ipykernel)",
   "language": "python",
   "name": "python3"
  },
  "language_info": {
   "codemirror_mode": {
    "name": "ipython",
    "version": 3
   },
   "file_extension": ".py",
   "mimetype": "text/x-python",
   "name": "python",
   "nbconvert_exporter": "python",
   "pygments_lexer": "ipython3",
   "version": "3.8.12"
  }
 },
 "nbformat": 4,
 "nbformat_minor": 1
}
